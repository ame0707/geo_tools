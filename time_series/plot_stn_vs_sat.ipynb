{
 "cells": [
  {
   "cell_type": "code",
   "execution_count": 60,
   "outputs": [],
   "source": [
    "# Little Jupyter notebook to explore time series data from in situ stations and satellite observations,\n",
    "# both already in csv format.\n",
    "\n",
    "import matplotlib.pyplot as plt\n",
    "import pandas as pd\n",
    "import numpy as np\n",
    "import os\n",
    "\n",
    "# These two datasets are for the GCNet data\n",
    "os.chdir('/home/arthur/Dropbox/projects/greenland/station_data/appears_extraction')\n",
    "all_data_mcd = pd.read_csv('greenland-stations-MCD43A3-006-results.csv', index_col=0)\n",
    "\n",
    "os.chdir('/home/arthur/Dropbox/projects/greenland/station_data/tower_data/orig_data_std_format/')\n",
    "stn_df = pd.read_csv('Summit_06c.csv')\n",
    "\n",
    "# This is the NOAA Summit stn data\n",
    "# os.chdir('/home/arthur/Dropbox/projects/greenland/station_data/noaa_summit_data')\n",
    "# stn_df = pd.read_csv('noaa_summit_all.csv')\n",
    "#\n",
    "# os.chdir('/home/arthur/Dropbox/projects/greenland/station_data/appears_extraction/noaa_summit')\n",
    "# all_data_mcd = pd.read_csv('noaa-summit-correct-location-MCD43A3-006-results.csv', index_col=0)\n",
    "\n",
    "# Column variables for readability\n",
    "date = 'Date'\n",
    "mcd43a3_sw_wsa = 'MCD43A3_006_Albedo_WSA_shortwave'\n",
    "mcd43a3_sw_qa = 'MCD43A3_006_BRDF_Albedo_Band_Mandatory_Quality_shortwave'\n",
    "\n",
    "# Specify whether to keep QA == 1, i.e. magnitude inversions\n",
    "\n",
    "all_qa = True"
   ],
   "metadata": {
    "collapsed": false,
    "pycharm": {
     "name": "#%%\n"
    }
   }
  },
  {
   "cell_type": "code",
   "execution_count": 61,
   "outputs": [
    {
     "name": "stdout",
     "output_type": "stream",
     "text": [
      "            sw_down  sw_up  net_rad   alb       date\n",
      "date                                                \n",
      "2015-01-01      0.2   0.18    -2.91  0.85 2015-01-01\n",
      "2015-01-02      0.2   0.18    -3.07  0.85 2015-01-02\n",
      "2015-01-03      0.0   0.00   -10.24  0.85 2015-01-03\n",
      "2015-01-04      0.0   0.00    -7.95  0.85 2015-01-04\n",
      "2015-01-05      0.2   0.00    -8.27  0.85 2015-01-05\n"
     ]
    }
   ],
   "source": [
    "# Subset and mask station data\n",
    "\n",
    "# Valid dataset options: GCNET, NOAA\n",
    "dataset = \"GCNET\"\n",
    "\n",
    "if dataset == \"GCNET\":\n",
    "    # Filter out non-noon observations from dataset\n",
    "    #TODO Can't figure out why these two filters cannot be combined into single line\n",
    "    filter = stn_df['dec_day'] % 0.5 == 0\n",
    "    stn_df.where(filter, inplace = True)\n",
    "\n",
    "    filter = stn_df['dec_day'] % 1.0 != 0\n",
    "    stn_df.where(filter, inplace = True)\n",
    "\n",
    "    # Remove observations filtered out above\n",
    "    stn_df = stn_df.dropna()\n",
    "\n",
    "    # Clean up dec_days and combine wit.h year to make new date field in yyyy-mm-dd, use as index\n",
    "    stn_df['dec_day'] = stn_df['dec_day'].apply(np.floor)\n",
    "    stn_df['dec_day'] = stn_df['dec_day'].astype(int).astype(str)\n",
    "    stn_df['dec_day'] = stn_df['dec_day'].str.zfill(3)\n",
    "    stn_df['date'] = stn_df['year'].astype(int).astype(str) + stn_df['dec_day']\n",
    "    stn_df['date'] = pd.to_datetime(stn_df['date'], format='%Y%j')\n",
    "    stn_df = stn_df.set_index(stn_df['date'])\n",
    "\n",
    "    # Delete now unnecessary dateparts\n",
    "    del stn_df['year']\n",
    "    del stn_df['dec_day']\n",
    "\n",
    "    # Set albedo fill values to NaN\n",
    "    stn_df['alb'].mask(stn_df['alb'] == 999, np.NaN, inplace=True)\n",
    "elif dataset == \"NOAA\":\n",
    "\n",
    "    # Add column to contain entire date string\n",
    "    stn_df['date'] = pd.to_datetime(stn_df['Year'].map(str) + \"-\" + stn_df['Mn'].map(str) + \"-\" + stn_df['Dy'].map(str))\n",
    "    # + \" \" + stn_df['Hr'].map(str) + \":\" + stn_df['Mi'].map(str))\n",
    "\n",
    "    # Note the .copy() prevents the new variable from simply pointing to the original df\n",
    "    df_selection = stn_df.loc[(stn_df['Hr'] == 12) & (stn_df['Mi'] == 0)].copy()\n",
    "\n",
    "    # Now that we have our combined date/time col, get rid of these\n",
    "    del df_selection['Year']\n",
    "    del df_selection['Mn']\n",
    "    del df_selection['Dy']\n",
    "    del df_selection['Hr']\n",
    "    del df_selection['Mi']\n",
    "\n",
    "    # These are longwave radiation\n",
    "    del df_selection['D_IR']\n",
    "    del df_selection['U_IR']\n",
    "\n",
    "    # Calculate \"albedo\" simply as the ratio of upward to downwelling radiance\n",
    "    df_selection['alb'] = df_selection['U_GLOBAL'] / df_selection['D_GLOBAL']\n",
    "\n",
    "    # Filter out spurious albedo values (sensor errors?)\n",
    "    df_selection = df_selection.loc[(df_selection['alb'] < 1.0) & (df_selection['alb'] > 0.0)]\n",
    "\n",
    "    df_selection = df_selection.set_index(df_selection['date'])\n",
    "\n",
    "    # Set the selection back to the original df variable to fit into exisiting code.\n",
    "    stn_df = df_selection.copy()\n",
    "print(stn_df.head())"
   ],
   "metadata": {
    "collapsed": false,
    "pycharm": {
     "name": "#%%\n"
    }
   }
  },
  {
   "cell_type": "code",
   "execution_count": 62,
   "outputs": [
    {
     "name": "stdout",
     "output_type": "stream",
     "text": [
      "                Date  MCD43A3_006_Albedo_WSA_shortwave  \\\n",
      "Category                                                 \n",
      "Summit    2000-02-24                               NaN   \n",
      "Summit    2000-02-25                               NaN   \n",
      "Summit    2000-02-26                               NaN   \n",
      "Summit    2000-02-27                               NaN   \n",
      "Summit    2000-02-28                               NaN   \n",
      "\n",
      "          MCD43A3_006_BRDF_Albedo_Band_Mandatory_Quality_shortwave  \n",
      "Category                                                            \n",
      "Summit                                                  255         \n",
      "Summit                                                  255         \n",
      "Summit                                                  255         \n",
      "Summit                                                  255         \n",
      "Summit                                                    1         \n"
     ]
    }
   ],
   "source": [
    "# Subset and mask mcd43 data\n",
    "mcd_df = all_data_mcd.loc['Summit', [date, mcd43a3_sw_wsa, mcd43a3_sw_qa]]\n",
    "\n",
    "# Mask out fill values\n",
    "mcd_df[mcd43a3_sw_wsa].mask(mcd_df[mcd43a3_sw_qa] == 255, np.NaN, inplace=True)\n",
    "\n",
    "# If specified, remove QA == 1\n",
    "if all_qa:\n",
    "    mcd_df[mcd43a3_sw_wsa].mask(mcd_df[mcd43a3_sw_qa] == 1, np.NaN, inplace=True)\n",
    "\n",
    "print(mcd_df.head())\n"
   ],
   "metadata": {
    "collapsed": false,
    "pycharm": {
     "name": "#%%\n"
    }
   }
  },
  {
   "cell_type": "code",
   "execution_count": 63,
   "outputs": [
    {
     "data": {
      "text/plain": "<Figure size 720x360 with 1 Axes>",
      "image/png": "[encoded data removed]"
     },
     "metadata": {
      "needs_background": "light"
     },
     "output_type": "display_data"
    }
   ],
   "source": [
    "# Plot data\n",
    "import matplotlib.pyplot as plt\n",
    "import math\n",
    "from sklearn.metrics import mean_squared_error\n",
    "from pandas.plotting import register_matplotlib_converters\n",
    "register_matplotlib_converters()\n",
    "#plt.style.use(\"ggplot\")\n",
    "\n",
    "mcd_df[date] = pd.to_datetime(mcd_df[date], yearfirst=True)\n",
    "mcd_df = mcd_df.set_index(mcd_df[date])\n",
    "\n",
    "stn_df.set_index(stn_df['date'])\n",
    "\n",
    "# Join satellite observations to stn data based on date\n",
    "joined_df = mcd_df.join(stn_df, lsuffix='_mcd', rsuffix='_stn')\n",
    "\n",
    "if dataset == \"GCNET\":\n",
    "    #del joined_df['date']\n",
    "    del joined_df['MCD43A3_006_BRDF_Albedo_Band_Mandatory_Quality_shortwave']\n",
    "    del joined_df['sw_down']\n",
    "    del joined_df['sw_up']\n",
    "    del joined_df['net_rad']\n",
    "    del joined_df['Date']\n",
    "elif dataset == \"NOAA\":\n",
    "    del joined_df['MCD43A3_006_BRDF_Albedo_Band_Mandatory_Quality_shortwave']\n",
    "    del joined_df['Date']\n",
    "    del joined_df['D_GLOBAL']\n",
    "    del joined_df['U_GLOBAL']\n",
    "\n",
    "# Subset dataset to correct time period (different for different stations?\n",
    "joined_subset_df = joined_df.loc['2015-01-01':'2019-12-01']\n",
    "\n",
    "# Calculate stats on dataset that has no missing values\n",
    "joined_subset_no_nans_df = joined_subset_df.dropna()\n",
    "sw_wsa_mse = mean_squared_error(joined_subset_no_nans_df[mcd43a3_sw_wsa], joined_subset_no_nans_df['alb'])\n",
    "sw_wsa_rmse = math.sqrt(sw_wsa_mse)\n",
    "\n",
    "# Do plot\n",
    "#ax1 = joined_subset_df.plot(kind='scatter', y='alb', x='date', use_index=True)\n",
    "#joined_subset_df.plot(kind='scatter', y=mcd43a3_sw_wsa, x='date', use_index=True, ax=ax1)\n",
    "\n",
    "# Add back in the missing days in a plottable way\n",
    "joined_subset_no_nans_filled_df = joined_subset_no_nans_df.asfreq('D')\n",
    "\n",
    "props = dict(boxstyle='round', facecolor='white', alpha=0.5)\n",
    "\n",
    "ax = joined_subset_no_nans_filled_df.plot(kind='scatter', x='date', y=mcd43a3_sw_wsa, color='DarkBlue', label='MCD43')\n",
    "#ax.text(3, 8, str(sw_wsa_rmse), fontsize=10, verticalalignment='top', bbox=props)\n",
    "ax.text(pd.Timestamp(\"2016-01-01\"), 1.05, \"RMSE: \" + str(sw_wsa_rmse))\n",
    "ax.set_xlabel('Date')\n",
    "ax.set_ylabel('Albedo')\n",
    "joined_subset_no_nans_filled_df.plot(kind='scatter', x='date', y='alb', ax=ax, color='DarkRed', label='Summit',\n",
    "                                     figsize=(10,5))\n",
    "plt.savefig('test_gcnet_summit.png')\n",
    "# joined_subset_df.plot(kind='scatter', y='alb', x='date', use_index=True)\n",
    "# joined_subset_df.plot(kind='scatter', y=mcd43a3_sw_wsa, x='date', use_index=True)\n",
    "#\n",
    "# # Export csv if needed\n",
    "# joined_subset_no_nans_filled_df.to_csv('test.csv')\n",
    "\n",
    "\n"
   ],
   "metadata": {
    "collapsed": false,
    "pycharm": {
     "name": "#%%\n"
    }
   }
  }
 ],
 "metadata": {
  "kernelspec": {
   "name": "geo",
   "language": "python",
   "display_name": "geo"
  },
  "language_info": {
   "codemirror_mode": {
    "name": "ipython",
    "version": 2
   },
   "file_extension": ".py",
   "mimetype": "text/x-python",
   "name": "python",
   "nbconvert_exporter": "python",
   "pygments_lexer": "ipython2",
   "version": "2.7.6"
  }
 },
 "nbformat": 4,
 "nbformat_minor": 0
}