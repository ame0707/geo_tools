{
 "cells": [
  {
   "cell_type": "code",
   "execution_count": 176,
   "outputs": [],
   "source": [
    "# Little Jupyter notebook to explore time series data from in situ stations and satellite observations,\n",
    "# both already in csv format.\n",
    "\n",
    "import matplotlib.pyplot as plt\n",
    "import pandas as pd\n",
    "import numpy as np\n",
    "import os\n",
    "\n",
    "os.chdir('/home/arthur/Dropbox/projects/greenland/station_data/appears_extraction')\n",
    "all_data_mcd = pd.read_csv('greenland-stations-MCD43A3-006-results.csv', index_col=0)\n",
    "\n",
    "os.chdir('/home/arthur/Dropbox/projects/greenland/station_data/tower_data/orig_data/')\n",
    "stn_df = pd.read_csv('NASA-U_03c.dat_Req2003')\n",
    "\n",
    "# Column variables for readability\n",
    "date = 'Date'\n",
    "mcd43a3_sw_wsa = 'MCD43A3_006_Albedo_WSA_shortwave'\n",
    "mcd43a3_sw_qa = 'MCD43A3_006_BRDF_Albedo_Band_Mandatory_Quality_shortwave'\n",
    "\n",
    "# Specify whether to keep QA == 1, i.e. magnitude inversions\n",
    "\n",
    "all_qa = True"
   ],
   "metadata": {
    "collapsed": false,
    "pycharm": {
     "name": "#%%\n"
    }
   }
  },
  {
   "cell_type": "code",
   "execution_count": 177,
   "outputs": [
    {
     "name": "stdout",
     "output_type": "stream",
     "text": [
      "            sw_down   sw_up  net_rad   alb       date\n",
      "date                                                 \n",
      "2015-01-01      0.0    0.00   -12.16  0.85 2015-01-01\n",
      "2015-01-02      0.0    0.00   -10.72  0.85 2015-01-02\n",
      "2015-01-03      0.0    0.00    -6.08  0.85 2015-01-03\n",
      "2015-01-04      0.0    0.00    -8.08  0.85 2015-01-04\n",
      "2015-01-05      0.0    0.00    -2.48  0.85 2015-01-05\n",
      "...             ...     ...      ...   ...        ...\n",
      "2018-05-18    999.0  170.01   999.00   NaN 2018-05-18\n",
      "2018-05-19    999.0  153.69   999.00   NaN 2018-05-19\n",
      "2018-05-20    999.0  175.70   999.00   NaN 2018-05-20\n",
      "2018-05-21    999.0  173.32   999.00   NaN 2018-05-21\n",
      "2018-05-22   1028.8  178.36    24.56  0.17 2018-05-22\n",
      "\n",
      "[1238 rows x 5 columns]\n"
     ]
    }
   ],
   "source": [
    "# Subset and mask station data\n",
    " #.loc['alb']\n",
    "#print(stn_df.columns)\n",
    "\n",
    "# Filter out non-noon observations from dataset\n",
    "#TODO Can't figure out why these two filters cannot be combined into single line\n",
    "filter = stn_df['dec_day'] % 0.5 == 0\n",
    "stn_df.where(filter, inplace = True)\n",
    "\n",
    "filter = stn_df['dec_day'] % 1.0 != 0\n",
    "stn_df.where(filter, inplace = True)\n",
    "\n",
    "# Remove observations filtered out above\n",
    "stn_df = stn_df.dropna()\n",
    "\n",
    "# Clean up dec_days and combine with year to make new date field in yyyy-mm-dd, use as index\n",
    "stn_df['dec_day'] = stn_df['dec_day'].apply(np.floor)\n",
    "stn_df['dec_day'] = stn_df['dec_day'].astype(int).astype(str)\n",
    "stn_df['dec_day'] = stn_df['dec_day'].str.zfill(3)\n",
    "stn_df['date'] = stn_df['year'].astype(int).astype(str) + stn_df['dec_day']\n",
    "stn_df['date'] = pd.to_datetime(stn_df['date'], format='%Y%j')\n",
    "stn_df = stn_df.set_index(stn_df['date'])\n",
    "\n",
    "# Delete now unnecessary dateparts\n",
    "del stn_df['year']\n",
    "del stn_df['dec_day']\n",
    "\n",
    "# Set albedo fill values to NaN\n",
    "stn_df['alb'].mask(stn_df['alb'] == 999, np.NaN, inplace=True)\n",
    "\n",
    "print(stn_df)"
   ],
   "metadata": {
    "collapsed": false,
    "pycharm": {
     "name": "#%%\n"
    }
   }
  },
  {
   "cell_type": "code",
   "execution_count": 178,
   "outputs": [
    {
     "name": "stdout",
     "output_type": "stream",
     "text": [
      "                Date  MCD43A3_006_Albedo_WSA_shortwave  \\\n",
      "Category                                                 \n",
      "NASA-U    2000-02-24                               NaN   \n",
      "NASA-U    2000-02-25                               NaN   \n",
      "NASA-U    2000-02-26                               NaN   \n",
      "NASA-U    2000-02-27                               NaN   \n",
      "NASA-U    2000-02-28                               NaN   \n",
      "...              ...                               ...   \n",
      "NASA-U    2020-04-28                             0.835   \n",
      "NASA-U    2020-04-29                             0.826   \n",
      "NASA-U    2020-04-30                             0.823   \n",
      "NASA-U    2020-05-01                             0.820   \n",
      "NASA-U    2020-05-02                             0.820   \n",
      "\n",
      "          MCD43A3_006_BRDF_Albedo_Band_Mandatory_Quality_shortwave  \n",
      "Category                                                            \n",
      "NASA-U                                                255.0         \n",
      "NASA-U                                                255.0         \n",
      "NASA-U                                                255.0         \n",
      "NASA-U                                                255.0         \n",
      "NASA-U                                                  1.0         \n",
      "...                                                     ...         \n",
      "NASA-U                                                  0.0         \n",
      "NASA-U                                                  0.0         \n",
      "NASA-U                                                  0.0         \n",
      "NASA-U                                                  0.0         \n",
      "NASA-U                                                  0.0         \n",
      "\n",
      "[6790 rows x 3 columns]\n"
     ]
    }
   ],
   "source": [
    "# Subset and mask mcd43 data\n",
    "mcd_df = all_data_mcd.loc['NASA-U', [date, mcd43a3_sw_wsa, mcd43a3_sw_qa]]\n",
    "\n",
    "# Mask out fill values\n",
    "mcd_df[mcd43a3_sw_wsa].mask(mcd_df[mcd43a3_sw_qa] == 255, np.NaN, inplace=True)\n",
    "\n",
    "# If specified, remove QA == 1\n",
    "if all_qa:\n",
    "    mcd_df[mcd43a3_sw_wsa].mask(mcd_df[mcd43a3_sw_qa] == 1, np.NaN, inplace=True)\n",
    "\n",
    "print(mcd_df)"
   ],
   "metadata": {
    "collapsed": false,
    "pycharm": {
     "name": "#%%\n"
    }
   }
  },
  {
   "cell_type": "code",
   "execution_count": 179,
   "outputs": [
    {
     "name": "stdout",
     "output_type": "stream",
     "text": [
      "       MCD43A3_006_Albedo_WSA_shortwave          alb\n",
      "count                       2779.000000  1087.000000\n",
      "mean                           0.814666     0.531196\n",
      "std                            0.014608     0.244207\n",
      "min                            0.718000     0.170000\n",
      "25%                            0.807000     0.320000\n",
      "50%                            0.817000     0.330000\n",
      "75%                            0.824000     0.790000\n",
      "max                            0.860000     0.940000\n"
     ]
    },
    {
     "data": {
      "text/plain": "<matplotlib.axes._subplots.AxesSubplot at 0x7f696cb53950>"
     },
     "execution_count": 179,
     "metadata": {},
     "output_type": "execute_result"
    },
    {
     "data": {
      "text/plain": "<Figure size 432x288 with 1 Axes>",
      "image/png": "[encoded data removed]"
     },
     "metadata": {},
     "output_type": "display_data"
    }
   ],
   "source": [
    "# Plot data\n",
    "import matplotlib.pyplot as plt\n",
    "from pandas.plotting import register_matplotlib_converters\n",
    "register_matplotlib_converters()\n",
    "plt.style.use(\"ggplot\")\n",
    "\n",
    "mcd_df[date] = pd.to_datetime(mcd_df[date], yearfirst=True)\n",
    "mcd_df = mcd_df.set_index(mcd_df[date])\n",
    "#del mcd_df[date]\n",
    "\n",
    "# Join satellite observations to stn data based on date\n",
    "joined_df = mcd_df.join(stn_df, lsuffix='_mcd', rsuffix='_stn')\n",
    "\n",
    "del joined_df['date']\n",
    "del joined_df['MCD43A3_006_BRDF_Albedo_Band_Mandatory_Quality_shortwave']\n",
    "del joined_df['sw_down']\n",
    "del joined_df['sw_up']\n",
    "del joined_df['net_rad']\n",
    "del joined_df['Date']\n",
    "\n",
    "print(joined_df.describe())\n",
    "\n",
    "joined_df.plot()\n"
   ],
   "metadata": {
    "collapsed": false,
    "pycharm": {
     "name": "#%%\n"
    }
   }
  }
 ],
 "metadata": {
  "kernelspec": {
   "name": "geo",
   "language": "python",
   "display_name": "geo"
  },
  "language_info": {
   "codemirror_mode": {
    "name": "ipython",
    "version": 2
   },
   "file_extension": ".py",
   "mimetype": "text/x-python",
   "name": "python",
   "nbconvert_exporter": "python",
   "pygments_lexer": "ipython2",
   "version": "2.7.6"
  }
 },
 "nbformat": 4,
 "nbformat_minor": 0
}