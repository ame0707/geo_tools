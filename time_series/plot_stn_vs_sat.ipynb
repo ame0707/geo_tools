{
 "cells": [
  {
   "cell_type": "code",
   "execution_count": 1,
   "outputs": [
    {
     "name": "stdout",
     "output_type": "stream",
     "text": [
      "Index(['year', 'dec_day', 'sw_down', 'sw_up', 'net_rad', 'alb'], dtype='object')\n"
     ]
    }
   ],
   "source": [
    "# Little Jupyter notebook to explore time series data from in situ stations and satellite observations,\n",
    "# both already in csv format.\n",
    "\n",
    "import matplotlib.pyplot as plt\n",
    "import pandas as pd\n",
    "import numpy as np\n",
    "import os\n",
    "\n",
    "os.chdir('/home/arthur/Dropbox/projects/greenland/station_data/appears_extraction')\n",
    "all_data_mcd = pd.read_csv('greenland-stations-MCD43A3-006-results.csv', index_col=0)\n",
    "\n",
    "os.chdir('/home/arthur/Dropbox/projects/greenland/station_data/tower_data/orig_data_std_format/')\n",
    "stn_df = pd.read_csv('South_Dome_11c.csv')\n",
    "print(stn_df.columns)\n",
    "\n",
    "# Column variables for readability\n",
    "date = 'Date'\n",
    "mcd43a3_sw_wsa = 'MCD43A3_006_Albedo_WSA_shortwave'\n",
    "mcd43a3_sw_qa = 'MCD43A3_006_BRDF_Albedo_Band_Mandatory_Quality_shortwave'\n",
    "\n",
    "# Specify whether to keep QA == 1, i.e. magnitude inversions\n",
    "\n",
    "all_qa = True"
   ],
   "metadata": {
    "collapsed": false,
    "pycharm": {
     "name": "#%%\n"
    }
   }
  },
  {
   "cell_type": "code",
   "execution_count": 2,
   "outputs": [
    {
     "name": "stdout",
     "output_type": "stream",
     "text": [
      "            sw_down   sw_up  net_rad   alb       date\n",
      "date                                                 \n",
      "2015-01-01     0.25    0.14    -5.83  0.95 2015-01-01\n",
      "2015-01-02     0.25    0.14    -2.01  0.95 2015-01-02\n",
      "2015-01-03     0.25    0.07    -5.04  0.95 2015-01-03\n",
      "2015-01-04     0.12    0.07    -2.35  0.95 2015-01-04\n",
      "2015-01-05     0.19    0.14    -3.16  0.95 2015-01-05\n",
      "...             ...     ...      ...   ...        ...\n",
      "2019-05-15   467.36  428.92    20.28  0.92 2019-05-15\n",
      "2019-05-16   469.46  440.88  -194.10  0.94 2019-05-16\n",
      "2019-05-17   480.13  448.09    43.47  0.93 2019-05-17\n",
      "2019-05-18   491.16  441.36  -112.55  0.90 2019-05-18\n",
      "2019-05-19   454.21  423.68   -17.47  0.93 2019-05-19\n",
      "\n",
      "[1600 rows x 5 columns]\n"
     ]
    }
   ],
   "source": [
    "# Subset and mask station data\n",
    " #.loc['alb']\n",
    "\n",
    "# Filter out non-noon observations from dataset\n",
    "#TODO Can't figure out why these two filters cannot be combined into single line\n",
    "filter = stn_df['dec_day'] % 0.5 == 0\n",
    "stn_df.where(filter, inplace = True)\n",
    "\n",
    "filter = stn_df['dec_day'] % 1.0 != 0\n",
    "stn_df.where(filter, inplace = True)\n",
    "\n",
    "# Remove observations filtered out above\n",
    "stn_df = stn_df.dropna()\n",
    "\n",
    "# Clean up dec_days and combine wit.h year to make new date field in yyyy-mm-dd, use as index\n",
    "stn_df['dec_day'] = stn_df['dec_day'].apply(np.floor)\n",
    "stn_df['dec_day'] = stn_df['dec_day'].astype(int).astype(str)\n",
    "stn_df['dec_day'] = stn_df['dec_day'].str.zfill(3)\n",
    "stn_df['date'] = stn_df['year'].astype(int).astype(str) + stn_df['dec_day']\n",
    "stn_df['date'] = pd.to_datetime(stn_df['date'], format='%Y%j')\n",
    "stn_df = stn_df.set_index(stn_df['date'])\n",
    "\n",
    "# Delete now unnecessary dateparts\n",
    "del stn_df['year']\n",
    "del stn_df['dec_day']\n",
    "\n",
    "# Set albedo fill values to NaN\n",
    "stn_df['alb'].mask(stn_df['alb'] == 999, np.NaN, inplace=True)\n",
    "\n",
    "print(stn_df)"
   ],
   "metadata": {
    "collapsed": false,
    "pycharm": {
     "name": "#%%\n"
    }
   }
  },
  {
   "cell_type": "code",
   "execution_count": 3,
   "outputs": [
    {
     "name": "stdout",
     "output_type": "stream",
     "text": [
      "                Date  MCD43A3_006_Albedo_WSA_shortwave  \\\n",
      "Category                                                 \n",
      "NASA-U    2000-02-24                               NaN   \n",
      "NASA-U    2000-02-25                               NaN   \n",
      "NASA-U    2000-02-26                               NaN   \n",
      "NASA-U    2000-02-27                               NaN   \n",
      "NASA-U    2000-02-28                               NaN   \n",
      "...              ...                               ...   \n",
      "NASA-U    2020-04-28                             0.835   \n",
      "NASA-U    2020-04-29                             0.826   \n",
      "NASA-U    2020-04-30                             0.823   \n",
      "NASA-U    2020-05-01                             0.820   \n",
      "NASA-U    2020-05-02                             0.820   \n",
      "\n",
      "          MCD43A3_006_BRDF_Albedo_Band_Mandatory_Quality_shortwave  \n",
      "Category                                                            \n",
      "NASA-U                                                255.0         \n",
      "NASA-U                                                255.0         \n",
      "NASA-U                                                255.0         \n",
      "NASA-U                                                255.0         \n",
      "NASA-U                                                  1.0         \n",
      "...                                                     ...         \n",
      "NASA-U                                                  0.0         \n",
      "NASA-U                                                  0.0         \n",
      "NASA-U                                                  0.0         \n",
      "NASA-U                                                  0.0         \n",
      "NASA-U                                                  0.0         \n",
      "\n",
      "[6790 rows x 3 columns]\n"
     ]
    }
   ],
   "source": [
    "# Subset and mask mcd43 data\n",
    "mcd_df = all_data_mcd.loc['NASA-U', [date, mcd43a3_sw_wsa, mcd43a3_sw_qa]]\n",
    "\n",
    "# Mask out fill values\n",
    "mcd_df[mcd43a3_sw_wsa].mask(mcd_df[mcd43a3_sw_qa] == 255, np.NaN, inplace=True)\n",
    "\n",
    "# If specified, remove QA == 1\n",
    "if all_qa:\n",
    "    mcd_df[mcd43a3_sw_wsa].mask(mcd_df[mcd43a3_sw_qa] == 1, np.NaN, inplace=True)\n",
    "\n",
    "print(mcd_df)\n"
   ],
   "metadata": {
    "collapsed": false,
    "pycharm": {
     "name": "#%%\n"
    }
   }
  },
  {
   "cell_type": "code",
   "execution_count": 4,
   "outputs": [
    {
     "name": "stdout",
     "output_type": "stream",
     "text": [
      "0.08900909530839558\n"
     ]
    },
    {
     "data": {
      "text/plain": "<matplotlib.axes._subplots.AxesSubplot at 0x7f0e9edcfe90>"
     },
     "execution_count": 4,
     "metadata": {},
     "output_type": "execute_result"
    },
    {
     "data": {
      "text/plain": "<Figure size 432x288 with 1 Axes>",
      "image/png": "[encoded data removed]"
     },
     "metadata": {
      "needs_background": "light"
     },
     "output_type": "display_data"
    }
   ],
   "source": [
    "# Plot data\n",
    "import matplotlib.pyplot as plt\n",
    "import math\n",
    "from sklearn.metrics import mean_squared_error\n",
    "from pandas.plotting import register_matplotlib_converters\n",
    "register_matplotlib_converters()\n",
    "#plt.style.use(\"ggplot\")\n",
    "\n",
    "mcd_df[date] = pd.to_datetime(mcd_df[date], yearfirst=True)\n",
    "mcd_df = mcd_df.set_index(mcd_df[date])\n",
    "\n",
    "# Join satellite observations to stn data based on date\n",
    "joined_df = mcd_df.join(stn_df, lsuffix='_mcd', rsuffix='_stn')\n",
    "\n",
    " #del joined_df['date']\n",
    "del joined_df['MCD43A3_006_BRDF_Albedo_Band_Mandatory_Quality_shortwave']\n",
    "del joined_df['sw_down']\n",
    "del joined_df['sw_up']\n",
    "del joined_df['net_rad']\n",
    "del joined_df['Date']\n",
    "\n",
    "# Subset dataset to correct time period (different for different stations?\n",
    "joined_subset_df = joined_df.loc['2015-01-01':'2019-08-01']\n",
    "\n",
    "# Calculate stats on dataset that has no missing values\n",
    "joined_subset_no_nans_df = joined_df.dropna()\n",
    "sw_wsa_mse = mean_squared_error(joined_subset_no_nans_df[mcd43a3_sw_wsa], joined_subset_no_nans_df['alb'])\n",
    "sw_wsa_rmse = math.sqrt(sw_wsa_mse)\n",
    "print(sw_wsa_rmse)\n",
    "\n",
    "# Do plot\n",
    "#ax1 = joined_subset_df.plot(kind='scatter', y='alb', x='date', use_index=True)\n",
    "#joined_subset_df.plot(kind='scatter', y=mcd43a3_sw_wsa, x='date', use_index=True, ax=ax1)\n",
    "\n",
    "# Add back in the missing days in a plottable way\n",
    "joined_subset_no_nans_filled_df = joined_subset_no_nans_df.asfreq('D')\n",
    "\n",
    "ax = joined_subset_no_nans_filled_df.plot(kind='scatter', x='date', y=mcd43a3_sw_wsa, color='DarkBlue', label='MCD43')\n",
    "joined_subset_no_nans_filled_df.plot(kind='scatter', x='date', y='alb', ax=ax, color='DarkRed', label='SouthDome')\n",
    "# joined_subset_df.plot(kind='scatter', y='alb', x='date', use_index=True)\n",
    "# joined_subset_df.plot(kind='scatter', y=mcd43a3_sw_wsa, x='date', use_index=True)\n",
    "#\n",
    "# # Export csv if needed\n",
    "# joined_subset_no_nans_filled_df.to_csv('test.csv')\n",
    "\n",
    "\n"
   ],
   "metadata": {
    "collapsed": false,
    "pycharm": {
     "name": "#%%\n"
    }
   }
  }
 ],
 "metadata": {
  "kernelspec": {
   "name": "geo",
   "language": "python",
   "display_name": "geo"
  },
  "language_info": {
   "codemirror_mode": {
    "name": "ipython",
    "version": 2
   },
   "file_extension": ".py",
   "mimetype": "text/x-python",
   "name": "python",
   "nbconvert_exporter": "python",
   "pygments_lexer": "ipython2",
   "version": "2.7.6"
  }
 },
 "nbformat": 4,
 "nbformat_minor": 0
}